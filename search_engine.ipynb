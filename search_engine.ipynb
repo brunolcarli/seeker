{
 "cells": [
  {
   "cell_type": "code",
   "execution_count": 115,
   "id": "89703560-8a7b-4445-b655-cb4c6a3d2c6b",
   "metadata": {},
   "outputs": [
    {
     "name": "stderr",
     "output_type": "stream",
     "text": [
      "[nltk_data] Downloading package stopwords to\n",
      "[nltk_data]     /Users/beelzebruno/nltk_data...\n",
      "[nltk_data]   Package stopwords is already up-to-date!\n"
     ]
    }
   ],
   "source": [
    "import requests\n",
    "from bs4 import BeautifulSoup\n",
    "from difflib import get_close_matches\n",
    "from random import choice, shuffle\n",
    "from collections import defaultdict\n",
    "from gensim import corpora\n",
    "from gensim import similarities\n",
    "from gensim import models\n",
    "import nltk\n",
    "import json\n",
    "import pickle\n",
    "\n",
    "nltk.download('stopwords')\n",
    "\n",
    "from nltk.corpus import stopwords"
   ]
  },
  {
   "cell_type": "code",
   "execution_count": 95,
   "id": "7bc78ba6-f8a6-4b08-bc11-3b5e6780458a",
   "metadata": {},
   "outputs": [],
   "source": [
    "\n",
    "def page_rank(query, p_list):\n",
    "    rk = 0\n",
    "    corpus = ' '.join(p_list)\n",
    "    for token in query.split():\n",
    "        if token in corpus:\n",
    "            rk += 1\n",
    "    # return len(get_close_matches(query, p_list, n=10))\n",
    "    if query in corpus:\n",
    "        rk += 1\n",
    "    return rk\n",
    "\n",
    "    \n",
    "\n",
    "def get_result(query, values, lsi):\n",
    "    # create a bag of words from query input\n",
    "    vec_bow = gensim_dictionary.doc2bow(query.lower().split())\n",
    "    vec_lsi = lsi[vec_bow]\n",
    "\n",
    "\n",
    "    # transforming corpus to LSI space and index it\n",
    "    index = similarities.MatrixSimilarity(lsi[gensim_corpus])\n",
    "\n",
    "\n",
    "    # Perform a similarity query against the corpus\n",
    "    simil = index[vec_lsi]  \n",
    "    simil = sorted(list(enumerate(simil)), key=lambda item: -item[1])\n",
    "\n",
    "\n",
    "    # topic1, topic2 = simil\n",
    "    # result = {\n",
    "    #     translate[topic1[0]]: topic1[1],\n",
    "    #     translate[topic2[0]]: topic2[1]\n",
    "    # }\n",
    "    res = {}\n",
    "    for idx, perc in simil:\n",
    "        perc *= 100\n",
    "        res[values[idx][0]] = perc\n",
    "    return res  #result\n"
   ]
  },
  {
   "cell_type": "code",
   "execution_count": 111,
   "id": "d0a36b5a-b668-4301-bb52-af30440fea9b",
   "metadata": {},
   "outputs": [
    {
     "name": "stdout",
     "output_type": "stream",
     "text": [
      "URL: https://g1.globo.com | 200 | V: 1 | U: 0\n",
      "URL: https://g1.globo.com/politica/noticia/2023/08/24/cpi-dos-atos-golpistas-tem-bate-boca-entre-deputados-laura-carneiro-e-marco-feliciano.ghtml | 200 | V: 2 | U: 656\n",
      "URL: https://g1.globo.com/politica/noticia/2023/08/24/pessoa-abjeta-e-misogina-mentirosa-contumaz-eliziane-gama-e-marco-feliciano-trocam-ofensas-na-cpi.ghtml | 200 | V: 3 | U: 1328\n",
      "URL: https://g1.globo.com/df/distrito-federal/noticia/2023/08/24/cpi-dos-atos-antidemocraticos-mauro-cid-diz-que-recebimento-de-presentes-estava-entre-suas-funcoes.ghtml | 200 | V: 4 | U: 1999\n",
      "URL: https://g1.globo.com/df/distrito-federal/noticia/2023/08/24/idade-cid-pergunta.ghtml | 200 | V: 5 | U: 2672\n",
      "URL: https://g1.globo.com/economia/imposto-de-renda/noticia/2023/08/24/imposto-de-renda-2023-consulta-ao-4o-lote-da-restituicao-comeca-nesta-quinta-feira-saiba-como-fazer.ghtml | 200 | V: 6 | U: 3343\n",
      "URL: https://g1.globo.com/politica/noticia/2023/08/24/senado-aprova-mp-que-reajusta-salario-minimo-e-amplia-faixa-de-isencao-do-ir.ghtml | 200 | V: 7 | U: 4007\n",
      "URL: https://g1.globo.com/mundo/noticia/2023/08/24/putin-rompe-silencio-e-envia-condolencias-a-familia-de-lider-do-grupo-wagner.ghtml | 200 | V: 8 | U: 4663\n",
      "URL: https://g1.globo.com/bom-dia-brasil/noticia/2023/08/24/queda-de-aviao-de-prigozhin-guerra-da-ucrania-ja-tem-11-mortes-suspeitas-entre-russos-e-ucranianos.ghtml | 200 | V: 9 | U: 5321\n",
      "URL: https://g1.globo.com/df/distrito-federal/noticia/2023/08/24/operacao-policia-df.ghtml | 200 | V: 10 | U: 5983\n",
      "URL: https://g1.globo.com/sc/santa-catarina/noticia/2023/08/24/alvo-de-operacao-jair-renan-se-mudou-para-balneario-camboriu-apos-virar-assessor-de-senador-do-pl.ghtml | 200 | V: 11 | U: 6644\n",
      "URL: https://g1.globo.com/politica/blog/camila-bomfim/post/2023/08/24/cpi-apura-email-que-cita-renan-buscando-presentes-no-acervo-da-presidencia.ghtml | 200 | V: 12 | U: 7298\n",
      "URL: https://g1.globo.com/pop-arte/musica/the-town/2023/noticia/2023/08/24/banda-dos-sonhos-do-the-town-monte-seu-supergrupo-com-as-principais-atracoes-do-festival.ghtml | 200 | V: 13 | U: 7944\n",
      "URL: https://g1.globo.com/educacao/noticia/2023/08/24/carlao-tem-6-letras-c-de-competente-a-de-carater-vereador-que-viralizou-pode-nao-ter-errado-entenda-por-que.ghtml | 200 | V: 14 | U: 8590\n",
      "URL: https://g1.globo.com/sp/vale-do-paraiba-regiao/noticia/2023/08/24/aviao-fabricado-pela-embraer-tem-problema-tecnico-que-impede-retorno-do-palmeiras-ao-brasil.ghtml | 200 | V: 15 | U: 9232\n"
     ]
    }
   ],
   "source": [
    "cached = get_cache()\n",
    "urls = list(cached.keys())\n",
    "if not urls:\n",
    "    urls = ['https://g1.globo.com/']\n",
    "else:\n",
    "    shuffle(urls)\n",
    "\n",
    "visited = set()\n",
    "\n",
    "c = 0\n",
    "MAX = 15\n",
    "query = 'frente fria chegando'\n",
    "\n",
    "\n",
    "while urls:\n",
    "    url = urls.pop(0)\n",
    "\n",
    "    if url.endswith('/'):\n",
    "        url = url[:-1]\n",
    "\n",
    "    if url in visited: continue\n",
    "    \n",
    "        \n",
    "    r = requests.get(url)\n",
    "    c += 1\n",
    "\n",
    "    visited.add(url)\n",
    "    print(f'URL: {url} | {r.status_code} | V: {len(visited)} | U: {len(urls)}')\n",
    "\n",
    "    if r.status_code != 200: continue\n",
    "    \n",
    "    soup = BeautifulSoup(r.text, 'html.parser')\n",
    "    for found_url in soup.find_all('a'):\n",
    "        x = found_url.attrs.get('href', '')\n",
    "        if not x.startswith('http') or x in visited: continue\n",
    "        urls.append(x)\n",
    "\n",
    "    if url in cached: continue\n",
    "    \n",
    "    texts = []\n",
    "    for t in soup.find_all('p')+soup.find_all('span'):\n",
    "        tx = t.text.lower().replace('\\t', '').replace('\\n', ' ').strip()\n",
    "        if len(tx) < 2:\n",
    "            continue\n",
    "        for token in tx.split():\n",
    "            if token in stopwords.words():\n",
    "                continue\n",
    "            texts.append(token)\n",
    "\n",
    "    # texts = [[word for word in txt.split() if word not in stopwords.words()] for txt in texts]\n",
    "    doc = ' '.join(texts).strip()\n",
    "    cached[url] = doc\n",
    "\n",
    "    if c >= MAX:\n",
    "        break\n",
    "\n",
    "store(cached)"
   ]
  },
  {
   "cell_type": "code",
   "execution_count": 120,
   "id": "063723c5-7245-4589-b34f-ec158a0db0b5",
   "metadata": {},
   "outputs": [],
   "source": [
    "reserve_unseen_urls(urls)"
   ]
  },
  {
   "cell_type": "code",
   "execution_count": 124,
   "id": "adaa7989-4207-4e76-9395-d4aafe7464ca",
   "metadata": {},
   "outputs": [],
   "source": [
    "values = [(u, t) for u, t in cached.items()]\n",
    "txts = [[word for word in document[1].split()] for document in values]\n",
    "\n",
    "frequency = defaultdict(int)\n",
    "\n",
    "\n",
    "for text in txts:\n",
    "    for token in text:\n",
    "        frequency[token] += 1\n",
    "txts = [[token for token in text if frequency[token] > 1] for text in txts]\n",
    "\n",
    "\n",
    "gensim_dictionary = corpora.Dictionary(txts)\n",
    "gensim_corpus = [gensim_dictionary.doc2bow(text) for text in txts]\n",
    "\n",
    "lsi = models.LsiModel(gensim_corpus, id2word=gensim_dictionary, num_topics=len(values))"
   ]
  },
  {
   "cell_type": "code",
   "execution_count": 125,
   "id": "7e1a58f8-461f-4865-8e21-a135682df65b",
   "metadata": {},
   "outputs": [
    {
     "data": {
      "text/plain": [
       "{'https://g1.globo.com': 0.0,\n",
       " 'https://g1.globo.com/politica/noticia/2023/08/24/cpi-dos-atos-golpistas-tem-bate-boca-entre-deputados-laura-carneiro-e-marco-feliciano.ghtml': 0.0,\n",
       " 'https://g1.globo.com/politica/noticia/2023/08/24/pessoa-abjeta-e-misogina-mentirosa-contumaz-eliziane-gama-e-marco-feliciano-trocam-ofensas-na-cpi.ghtml': 0.0,\n",
       " 'https://g1.globo.com/df/distrito-federal/noticia/2023/08/24/cpi-dos-atos-antidemocraticos-mauro-cid-diz-que-recebimento-de-presentes-estava-entre-suas-funcoes.ghtml': 0.0,\n",
       " 'https://g1.globo.com/df/distrito-federal/noticia/2023/08/24/idade-cid-pergunta.ghtml': 0.0,\n",
       " 'https://g1.globo.com/economia/imposto-de-renda/noticia/2023/08/24/imposto-de-renda-2023-consulta-ao-4o-lote-da-restituicao-comeca-nesta-quinta-feira-saiba-como-fazer.ghtml': 0.0,\n",
       " 'https://g1.globo.com/politica/noticia/2023/08/24/senado-aprova-mp-que-reajusta-salario-minimo-e-amplia-faixa-de-isencao-do-ir.ghtml': 0.0,\n",
       " 'https://g1.globo.com/mundo/noticia/2023/08/24/putin-rompe-silencio-e-envia-condolencias-a-familia-de-lider-do-grupo-wagner.ghtml': 0.0,\n",
       " 'https://g1.globo.com/bom-dia-brasil/noticia/2023/08/24/queda-de-aviao-de-prigozhin-guerra-da-ucrania-ja-tem-11-mortes-suspeitas-entre-russos-e-ucranianos.ghtml': 0.0,\n",
       " 'https://g1.globo.com/df/distrito-federal/noticia/2023/08/24/operacao-policia-df.ghtml': 0.0,\n",
       " 'https://g1.globo.com/sc/santa-catarina/noticia/2023/08/24/alvo-de-operacao-jair-renan-se-mudou-para-balneario-camboriu-apos-virar-assessor-de-senador-do-pl.ghtml': 0.0,\n",
       " 'https://g1.globo.com/politica/blog/camila-bomfim/post/2023/08/24/cpi-apura-email-que-cita-renan-buscando-presentes-no-acervo-da-presidencia.ghtml': 0.0,\n",
       " 'https://g1.globo.com/pop-arte/musica/the-town/2023/noticia/2023/08/24/banda-dos-sonhos-do-the-town-monte-seu-supergrupo-com-as-principais-atracoes-do-festival.ghtml': 0.0,\n",
       " 'https://g1.globo.com/educacao/noticia/2023/08/24/carlao-tem-6-letras-c-de-competente-a-de-carater-vereador-que-viralizou-pode-nao-ter-errado-entenda-por-que.ghtml': 0.0,\n",
       " 'https://g1.globo.com/sp/vale-do-paraiba-regiao/noticia/2023/08/24/aviao-fabricado-pela-embraer-tem-problema-tecnico-que-impede-retorno-do-palmeiras-ao-brasil.ghtml': 0.0}"
      ]
     },
     "execution_count": 125,
     "metadata": {},
     "output_type": "execute_result"
    }
   ],
   "source": [
    "get_result(query, values, lsi)"
   ]
  },
  {
   "cell_type": "code",
   "execution_count": 119,
   "id": "55a8889d-c415-4235-82f4-ccbc20723fdb",
   "metadata": {},
   "outputs": [],
   "source": [
    "def store(data):\n",
    "    try:\n",
    "        with open('docs/cache.json', 'r+') as f:\n",
    "            cached = json.load(f)\n",
    "            cached.update(data)\n",
    "            json.dump(data, f)\n",
    "    except:\n",
    "        with open('docs/cache.json', 'w') as f:\n",
    "            json.dump(data, f)\n",
    "\n",
    "\n",
    "def get_cache():\n",
    "    try:\n",
    "        with open('docs/cache.json', 'r') as f:\n",
    "            data = json.load(f)\n",
    "            return data\n",
    "    except:\n",
    "        return {}\n",
    "\n",
    "\n",
    "def reserve_unseen_urls(data):\n",
    "    with open('docs/unseen_urls.bin', 'wb') as f:\n",
    "        pickle.dump(data, f)\n"
   ]
  },
  {
   "cell_type": "code",
   "execution_count": 102,
   "id": "61cb7f47-9d20-42be-8039-0874070e26cb",
   "metadata": {},
   "outputs": [],
   "source": [
    "store(cached)"
   ]
  },
  {
   "cell_type": "code",
   "execution_count": null,
   "id": "115d71dc-a166-49d2-bf04-a217a328b8ee",
   "metadata": {},
   "outputs": [],
   "source": []
  },
  {
   "cell_type": "code",
   "execution_count": null,
   "id": "dcca7c2c-5453-4960-98e8-de3974e2d2db",
   "metadata": {},
   "outputs": [],
   "source": []
  },
  {
   "cell_type": "code",
   "execution_count": 37,
   "id": "92716e22-070f-4ded-a847-0b55cb07abe6",
   "metadata": {},
   "outputs": [],
   "source": []
  }
 ],
 "metadata": {
  "kernelspec": {
   "display_name": "Python 3 (ipykernel)",
   "language": "python",
   "name": "python3"
  },
  "language_info": {
   "codemirror_mode": {
    "name": "ipython",
    "version": 3
   },
   "file_extension": ".py",
   "mimetype": "text/x-python",
   "name": "python",
   "nbconvert_exporter": "python",
   "pygments_lexer": "ipython3",
   "version": "3.9.17"
  }
 },
 "nbformat": 4,
 "nbformat_minor": 5
}
